{
 "cells": [
  {
   "cell_type": "markdown",
   "metadata": {},
   "source": [
    "# Resultados (BASE COMPLETA)"
   ]
  },
  {
   "cell_type": "code",
   "execution_count": null,
   "metadata": {},
   "outputs": [],
   "source": [
    "import numpy as np\n",
    "import os\n",
    "import matplotlib.pyplot as plt\n",
    "import pandas as pd\n",
    "import seaborn as sns"
   ]
  },
  {
   "cell_type": "markdown",
   "metadata": {},
   "source": [
    "Importacao e visualizacao da base de dados"
   ]
  },
  {
   "cell_type": "code",
   "execution_count": null,
   "metadata": {},
   "outputs": [],
   "source": [
    "#importação da base de dados (original)\n",
    "dt = pd.read_csv('bases/keyboard-gender.csv')\n",
    "\n",
    "#visualização dos dados\n",
    "dt.head()"
   ]
  },
  {
   "cell_type": "markdown",
   "metadata": {},
   "source": [
    "Quantidade de Homens e de Mulheres"
   ]
  },
  {
   "cell_type": "code",
   "execution_count": null,
   "metadata": {},
   "outputs": [],
   "source": [
    "#Quantidade de Homens(1) e de mulheres(2)\n",
    "qtdhm = dt['class'].value_counts()/3 ##esse 3 é porq foram coletadas 3 amostras\n",
    "print('Quantidade de Homens e de Mulheres \\n{}'.format(qtdhm))\n",
    "sns.set(font_scale=1.25)\n",
    "print(\"\\n\\nNo Gráfico...\")\n",
    "qtdhm.plot.pie(title=\"Gênero\", autopct='%.0f%%')"
   ]
  },
  {
   "cell_type": "markdown",
   "metadata": {},
   "source": [
    "# Correlação entre Atributos"
   ]
  },
  {
   "cell_type": "code",
   "execution_count": null,
   "metadata": {},
   "outputs": [],
   "source": [
    "x = dt.corr()\n",
    "corrplt = plt.subplots(figsize=(150,150))\n",
    "sns.set(font_scale=10.25)\n",
    "sns.heatmap(x, xticklabels=x.columns.values, yticklabels=x.columns.values,  annot=True,  fmt='.1f', annot_kws={'size': 70})\n",
    "plt.savefig(\"imagens/correlacaoEntreAtributos_BaseCompleta.png\")"
   ]
  },
  {
   "cell_type": "markdown",
   "metadata": {},
   "source": [
    "Salvando em arquivo .csv as correlações "
   ]
  },
  {
   "cell_type": "code",
   "execution_count": null,
   "metadata": {},
   "outputs": [],
   "source": [
    "x.to_csv(\"correlacao/correlacaoEntreAtributos_BaseCompleta.csv\")"
   ]
  },
  {
   "cell_type": "markdown",
   "metadata": {},
   "source": [
    "# Correlação entre atributos para o dataframe de homens e de mulheres "
   ]
  },
  {
   "cell_type": "markdown",
   "metadata": {},
   "source": [
    "Separação da base do sexo masculino"
   ]
  },
  {
   "cell_type": "code",
   "execution_count": null,
   "metadata": {},
   "outputs": [],
   "source": [
    "h = dt[dt['class'] == 1] ##separa a base para homens\n",
    "h.to_csv('bases/homem.csv')## salva num arquivo .csv\n",
    "h.drop('class', axis = 1)"
   ]
  },
  {
   "cell_type": "markdown",
   "metadata": {},
   "source": [
    "Separação da base do sexo feminino"
   ]
  },
  {
   "cell_type": "code",
   "execution_count": null,
   "metadata": {},
   "outputs": [],
   "source": [
    "m = dt[dt['class'] == 2] ##separa a base para mulheres\n",
    "m.to_csv('bases/mulher.csv')## salva num arquivo .csv\n",
    "m.drop('class', axis = 1)\n"
   ]
  },
  {
   "cell_type": "markdown",
   "metadata": {},
   "source": [
    "Pronto, agora com as bases separadas, podemos verificar a correlação entre os atributos de forma separada, vamos ver primeiramente para a base do sexo masculino"
   ]
  },
  {
   "cell_type": "code",
   "execution_count": null,
   "metadata": {},
   "outputs": [],
   "source": [
    "man = h.corr()\n",
    "corrplt = plt.subplots(figsize=(150,150))\n",
    "sns.set(font_scale=10.25)\n",
    "sns.heatmap(man, xticklabels=x.columns.values, yticklabels=x.columns.values,  annot=True,  fmt='.1f', annot_kws={'size': 70})\n",
    "plt.savefig(\"imagens/correlacaoEntreAtributos_BaseSexoMasculino.png\")"
   ]
  },
  {
   "cell_type": "markdown",
   "metadata": {},
   "source": [
    "E agora para o sexo feminino"
   ]
  },
  {
   "cell_type": "code",
   "execution_count": null,
   "metadata": {},
   "outputs": [],
   "source": [
    "wo = m.corr()\n",
    "corrplt = plt.subplots(figsize=(150,150))\n",
    "sns.set(font_scale=10.25)\n",
    "sns.heatmap(wo, xticklabels=x.columns.values, yticklabels=x.columns.values,  annot=True,  fmt='.1f', annot_kws={'size': 70})\n",
    "plt.savefig(\"imagens/correlacaoEntreAtributos_BaseSexoFeminino.png\")"
   ]
  },
  {
   "cell_type": "markdown",
   "metadata": {},
   "source": [
    "# Análise de Dados após a Seleção de Atributos\n"
   ]
  },
  {
   "cell_type": "markdown",
   "metadata": {},
   "source": [
    "# Algoritmo Genético: Abordagem Wrapper"
   ]
  },
  {
   "cell_type": "markdown",
   "metadata": {},
   "source": [
    "# Para o KNN - Média e Desvio Padrão"
   ]
  },
  {
   "cell_type": "code",
   "execution_count": null,
   "metadata": {},
   "outputs": [],
   "source": [
    "acuraciaKNNAG = pd.Series([87.45,87.01,88.74,81.82,83.12,87.01,80.09,85.71,87.01,87.01,81.39,85.71,87.01,87.01,87.01,88.31,\n",
    "                           87.45,87.88,88.31,88.31,87.45,87.45,82.25,88.31,86.58,86.58,88.74,88.74,88.74,88.31,])\n",
    "print(\"Média:\", acuraciaKNNAG.mean())\n",
    "print(\"Desvio padrão:\", acuraciaKNNAG.std())\n",
    "sns.set(font_scale=1.25)\n",
    "sns.distplot(acuraciaKNNAG)"
   ]
  },
  {
   "cell_type": "markdown",
   "metadata": {},
   "source": [
    "# Para o SVM - Média e Desvio Padrão"
   ]
  },
  {
   "cell_type": "code",
   "execution_count": null,
   "metadata": {},
   "outputs": [],
   "source": [
    "acuraciaSVMAG = pd.Series([83.98,86.58,81.39,83.12,85.71,83.55,83.55,81.82,83.12,82.68,84.42,83.98,86.15,87.45,83.98,84.85,\n",
    "                           80.09,85.28,85.28,80.95,83.98,85.71,81.82,87.01,83.12,87.45,84.85,83.55,88.31,82.68,])\n",
    "mediaSVMAG = acuraciaSVMAG.mean()\n",
    "stdSVMAG = acuraciaSVMAG.std()\n",
    "print(\"Média {}:\".format(mediaSVMAG) )\n",
    "print(\"Desvio padrão:\", stdSVMAG)\n",
    "sns.set(font_scale=1.25)\n",
    "sns.distplot(acuraciaSVMAG)"
   ]
  },
  {
   "cell_type": "markdown",
   "metadata": {},
   "source": [
    "# Para o Naive - Média e Desvio Padrão"
   ]
  },
  {
   "cell_type": "code",
   "execution_count": null,
   "metadata": {},
   "outputs": [],
   "source": [
    "acuraciaNaiveAG = pd.Series([75.32,74.89,74.89,75.32,75.76,74.89,75.32,74.89,75.32,74.89,75.76,74.89,74.89,75.32,74.89,74.89,74.89,75.32,75.32,75.32,74.89,74.89,\n",
    "                             74.89,75.32,75.32,74.89,75.32,74.89,74.89,74.89])\n",
    "\n",
    "mediaNaiveAG = acuraciaNaiveAG.mean()\n",
    "stdNaiveAG = acuraciaNaiveAG.std()\n",
    "print(\"Média {}:\".format(mediaNaiveAG) )\n",
    "print(\"Desvio padrão:\", stdNaiveAG)\n",
    "sns.set(font_scale=1.25)\n",
    "sns.distplot(acuraciaNaiveAG)\n"
   ]
  },
  {
   "cell_type": "markdown",
   "metadata": {},
   "source": [
    "# Algoritmo Genético: Abordagem Híbrida (Filtro + Wrapper)"
   ]
  },
  {
   "cell_type": "markdown",
   "metadata": {},
   "source": [
    "# Para o KNN - Média e Desvio Padrão"
   ]
  },
  {
   "cell_type": "code",
   "execution_count": null,
   "metadata": {},
   "outputs": [],
   "source": [
    "acuraciaKNN_fc = pd.Series([82.25,80.95,83.98,80.09,81.39,80.52,80.09,82.25,81.39,80.09,83.55,80.09,82.68,80.09,81.82,80.95,82.68,80.09,\n",
    "                            80.95,80.09,81.39,80.52,83.55,80.09,80.95,81.39,80.52,83.55,84.85,83.55])\n",
    "print(\"Média {}:\".format(acuraciaKNN_fc.mean()) )\n",
    "print(\"Desvio padrão:\", acuraciaKNN_fc.std())\n",
    "sns.set(font_scale=1.25)\n",
    "sns.distplot(acuraciaKNN_fc)"
   ]
  },
  {
   "cell_type": "markdown",
   "metadata": {},
   "source": [
    "# Para o SVM - Média e Desvio Padrão"
   ]
  },
  {
   "cell_type": "code",
   "execution_count": null,
   "metadata": {},
   "outputs": [],
   "source": [
    "acuraciaSVM_fc = pd.Series([80.09,80.95,80.52,80.09,80.95,80.09,80.52,80.09,80.52,82.68,80.52,80.09,80.95,80.09,80.09,81.39,81.39,80.52,\n",
    "                            80.09,80.52,80.09,80.95,80.52,80.09,83.12,80.09,80.52,80.09,80.95,80.09])\n",
    "print(\"Média {}:\".format(acuraciaSVM_fc.mean()) )\n",
    "print(\"Desvio padrão:\", acuraciaSVM_fc.std())\n",
    "sns.set(font_scale=1.25)\n",
    "sns.distplot(acuraciaSVM_fc)"
   ]
  },
  {
   "cell_type": "markdown",
   "metadata": {},
   "source": [
    "# Para o Naive - Média e Desvio Padrão"
   ]
  },
  {
   "cell_type": "code",
   "execution_count": null,
   "metadata": {},
   "outputs": [],
   "source": [
    "acuraciaNaive_fc = pd.Series([74.03,74.89,74.46,74.03,74.03,74.03,74.03,74.89,74.03,74.89,74.03,74.03,74.03,74.03,74.03,74.03,74.03,\n",
    "                              74.03,74.46,74.03,74.03,74.03,74.03,74.03,74.03,74.03,74.03,74.03,74.03,74.03])\n",
    "print(\"Média {}:\".format(acuraciaNaive_fc.mean()) )\n",
    "print(\"Desvio padrão:\", acuraciaNaive_fc.std())\n",
    "sns.set(font_scale=1.25)\n",
    "sns.distplot(acuraciaNaive_fc)"
   ]
  },
  {
   "cell_type": "markdown",
   "metadata": {},
   "source": [
    "# Análise de Dados: Abordagem Híbrida (Filtro + Wrapper)"
   ]
  },
  {
   "cell_type": "markdown",
   "metadata": {},
   "source": [
    "1) Quantos atributos repetidos na base de dados selecionada usando apenas o classificador KNN.\n",
    "**Acurácia acima de 83%**"
   ]
  },
  {
   "cell_type": "code",
   "execution_count": null,
   "metadata": {},
   "outputs": [],
   "source": [
    "filtoCruzadoKNN = pd.read_csv('basesParaTeste/filtroCruzado/knn/selecionadosFiltroCruzado_KNN.csv')\n",
    "filtoCruzadoKNN_1 = pd.read_csv('basesParaTeste/filtroCruzado/knn/selecionadosFiltroCruzado_KNN1.csv')\n",
    "#filtoCruzadoKNN_2 = pd.read_csv('basesParaTeste/filtroCruzado/knn/selecionadosFiltroCruzado_KNN2.csv')\n",
    "#filtoCruzadoKNN_3 = pd.read_csv('basesParaTeste/filtroCruzado/knn/selecionadosFiltroCruzado_KNN3.csv')\n",
    "filtoCruzadoKNN_2 = pd.read_csv('basesParaTeste/filtroCruzado/knn/selecionadosFiltroCruzado_KNN4.csv')\n",
    "\n",
    "basefiltroCruazdoKnn1 = pd.merge(filtoCruzadoKNN, filtoCruzadoKNN_1, how = 'inner',on='class')\n",
    "basefiltroCruazdoKnn2 = pd.merge(basefiltroCruazdoKnn1, filtoCruzadoKNN_2, on='class')\n",
    "#basefiltroCruazdoKnn3 = pd.merge(basefiltroCruazdoKnn2, filtoCruzadoKNN_3, on='class')\n",
    "#basefiltroCruazdoKnn4 = pd.merge(basefiltroCruazdoKnn3, filtoCruzadoKNN_4, on='class')\n",
    "\n",
    "#basefiltroCruazdoKnndrop = basefiltroCruazdoKnn4.drop('class', axis =1)"
   ]
  },
  {
   "cell_type": "code",
   "execution_count": null,
   "metadata": {},
   "outputs": [],
   "source": []
  },
  {
   "cell_type": "code",
   "execution_count": null,
   "metadata": {},
   "outputs": [],
   "source": []
  },
  {
   "cell_type": "code",
   "execution_count": null,
   "metadata": {},
   "outputs": [],
   "source": []
  },
  {
   "cell_type": "code",
   "execution_count": null,
   "metadata": {},
   "outputs": [],
   "source": []
  },
  {
   "cell_type": "code",
   "execution_count": null,
   "metadata": {},
   "outputs": [],
   "source": []
  },
  {
   "cell_type": "code",
   "execution_count": null,
   "metadata": {},
   "outputs": [],
   "source": []
  },
  {
   "cell_type": "code",
   "execution_count": null,
   "metadata": {},
   "outputs": [],
   "source": []
  },
  {
   "cell_type": "code",
   "execution_count": null,
   "metadata": {},
   "outputs": [],
   "source": []
  },
  {
   "cell_type": "code",
   "execution_count": null,
   "metadata": {},
   "outputs": [],
   "source": []
  },
  {
   "cell_type": "code",
   "execution_count": null,
   "metadata": {},
   "outputs": [],
   "source": []
  },
  {
   "cell_type": "code",
   "execution_count": null,
   "metadata": {},
   "outputs": [],
   "source": []
  },
  {
   "cell_type": "markdown",
   "metadata": {},
   "source": [
    "# Uso dos Algoritmos de Aprendizado de Máquina"
   ]
  },
  {
   "cell_type": "markdown",
   "metadata": {},
   "source": [
    "Para o KNN"
   ]
  },
  {
   "cell_type": "code",
   "execution_count": null,
   "metadata": {},
   "outputs": [],
   "source": [
    "sns.set(font_scale=1.25)\n",
    "sns.pairplot(x_vars=['dtfk1'], y_vars=['dtsk1'], data=dt, hue='class', height=5)"
   ]
  },
  {
   "cell_type": "markdown",
   "metadata": {},
   "source": []
  },
  {
   "cell_type": "code",
   "execution_count": null,
   "metadata": {},
   "outputs": [],
   "source": []
  },
  {
   "cell_type": "code",
   "execution_count": null,
   "metadata": {},
   "outputs": [],
   "source": []
  },
  {
   "cell_type": "code",
   "execution_count": null,
   "metadata": {},
   "outputs": [],
   "source": []
  }
 ],
 "metadata": {
  "kernelspec": {
   "display_name": "Python 3",
   "language": "python",
   "name": "python3"
  },
  "language_info": {
   "codemirror_mode": {
    "name": "ipython",
    "version": 3
   },
   "file_extension": ".py",
   "mimetype": "text/x-python",
   "name": "python",
   "nbconvert_exporter": "python",
   "pygments_lexer": "ipython3",
   "version": "3.7.3"
  }
 },
 "nbformat": 4,
 "nbformat_minor": 2
}
